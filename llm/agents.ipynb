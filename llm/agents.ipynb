{
 "cells": [
  {
   "cell_type": "code",
   "execution_count": 1,
   "metadata": {},
   "outputs": [
    {
     "data": {
      "text/plain": [
       "True"
      ]
     },
     "execution_count": 1,
     "metadata": {},
     "output_type": "execute_result"
    }
   ],
   "source": [
    "from wrappers import Arctic, GPT\n",
    "\n",
    "from langchain.agents import AgentExecutor, create_openai_tools_agent\n",
    "from langchain.output_parsers.openai_functions import JsonOutputFunctionsParser\n",
    "from langchain_core.messages import BaseMessage, HumanMessage\n",
    "from langchain_core.prompts import ChatPromptTemplate, MessagesPlaceholder\n",
    "from langchain_core.tools import tool\n",
    "\n",
    "\n",
    "from dotenv import load_dotenv\n",
    "import os\n",
    "\n",
    "load_dotenv()"
   ]
  },
  {
   "cell_type": "code",
   "execution_count": 2,
   "metadata": {},
   "outputs": [],
   "source": [
    "# members = [\"SQL-Generator\", \"Context-Retriever\"]\n",
    "members = [\"SQL-Generator\"]\n",
    "\n",
    "system_prompt = (\n",
    "    \"You are a supervisor tasked with managing a conversation between the\"\n",
    "    \" following workers:  {members}. Given the following user request,\"\n",
    "    \" respond with the worker to act next. Each worker will perform a\"\n",
    "    \" task and respond with their results and status. When finished,\"\n",
    "    \" respond with FINISH.\"\n",
    ")\n",
    "# Our team supervisor is an LLM node. It just picks the next agent to process\n",
    "# and decides when the work is completed\n",
    "options = [\"FINISH\"] + members\n",
    "# Using openai function calling can make output parsing easier for us\n",
    "function_def = {\n",
    "    \"name\": \"route\",\n",
    "    \"description\": \"Select the next role.\",\n",
    "    \"parameters\": {\n",
    "        \"title\": \"routeSchema\",\n",
    "        \"type\": \"object\",\n",
    "        \"properties\": {\n",
    "            \"next\": {\n",
    "                \"title\": \"Next\",\n",
    "                \"anyOf\": [\n",
    "                    {\"enum\": options},\n",
    "                ],\n",
    "            }\n",
    "        },\n",
    "        \"required\": [\"next\"],\n",
    "    },\n",
    "}\n",
    "prompt = ChatPromptTemplate.from_messages(\n",
    "    [\n",
    "        (\"system\", system_prompt),\n",
    "        MessagesPlaceholder(variable_name=\"messages\"),\n",
    "        (\n",
    "            \"system\",\n",
    "            \"Given the conversation above, who should act next?\"\n",
    "            \" Or should we FINISH? Select one of: {options}\",\n",
    "        ),\n",
    "    ]\n",
    ").partial(options=str(options), members=\", \".join(members))\n",
    "\n",
    "llm = GPT(model=\"gpt-4-1106-preview\")\n",
    "\n",
    "supervisor_chain = (\n",
    "    prompt\n",
    "    | llm.bind_functions(functions=[function_def], function_call=\"route\")\n",
    "    | JsonOutputFunctionsParser()\n",
    ")"
   ]
  },
  {
   "cell_type": "code",
   "execution_count": 3,
   "metadata": {},
   "outputs": [],
   "source": [
    "def create_agent(llm: GPT, tools: list, system_prompt: str):\n",
    "    # Each worker node will be given a name and some tools.\n",
    "    prompt = ChatPromptTemplate.from_messages(\n",
    "        [\n",
    "            (\n",
    "                \"system\",\n",
    "                system_prompt,\n",
    "            ),\n",
    "            MessagesPlaceholder(variable_name=\"messages\"),\n",
    "            MessagesPlaceholder(variable_name=\"agent_scratchpad\"),\n",
    "        ]\n",
    "    )\n",
    "    agent = create_openai_tools_agent(llm, tools, prompt)\n",
    "    executor = AgentExecutor(agent=agent, tools=tools)\n",
    "    return executor\n",
    "\n",
    "def agent_node(state, agent, name):\n",
    "    result = agent.invoke(state)\n",
    "    return {\"messages\": [HumanMessage(content=result[\"output\"], name=name)]}"
   ]
  },
  {
   "cell_type": "code",
   "execution_count": 9,
   "metadata": {},
   "outputs": [],
   "source": [
    "import operator\n",
    "from typing import Annotated, Any, Dict, List, Optional, Sequence, TypedDict\n",
    "import functools\n",
    "\n",
    "from langchain_core.prompts import ChatPromptTemplate, MessagesPlaceholder\n",
    "from langgraph.graph import StateGraph, END\n",
    "\n",
    "\n",
    "# The agent state is the input to each node in the graph\n",
    "class AgentState(TypedDict):\n",
    "    # The annotation tells the graph that new messages will always\n",
    "    # be added to the current states\n",
    "    messages: Annotated[Sequence[BaseMessage], operator.add]\n",
    "    # The 'next' field indicates where to route to next\n",
    "    next: str\n",
    "\n",
    "@tool\n",
    "def hello_world(string: str) -> str:\n",
    "    \"\"\"This is a simple tool that just returns a string\"\"\"\n",
    "    return \"hello world\"\n",
    "\n",
    "\n",
    "research_agent = create_agent(llm, [hello_world], \"You are good at generating SQL commands.\")\n",
    "research_node = functools.partial(agent_node, agent=research_agent, name=\"SQL-Generator\")\n",
    "\n",
    "# NOTE: THIS PERFORMS ARBITRARY CODE EXECUTION. PROCEED WITH CAUTION\n",
    "\n",
    "workflow = StateGraph(AgentState)\n",
    "workflow.add_node(\"SQL-Generator\", research_node)\n",
    "workflow.add_node(\"supervisor\", supervisor_chain)"
   ]
  },
  {
   "cell_type": "code",
   "execution_count": 10,
   "metadata": {},
   "outputs": [],
   "source": [
    "for member in members:\n",
    "    # We want our workers to ALWAYS \"report back\" to the supervisor when done\n",
    "    workflow.add_edge(member, \"supervisor\")\n",
    "# The supervisor populates the \"next\" field in the graph state\n",
    "# which routes to a node or finishes\n",
    "conditional_map = {k: k for k in members}\n",
    "conditional_map[\"FINISH\"] = END\n",
    "workflow.add_conditional_edges(\"supervisor\", lambda x: x[\"next\"], conditional_map)\n",
    "# Finally, add entrypoint\n",
    "workflow.set_entry_point(\"supervisor\")\n",
    "\n",
    "graph = workflow.compile()"
   ]
  },
  {
   "cell_type": "code",
   "execution_count": 11,
   "metadata": {},
   "outputs": [
    {
     "name": "stdout",
     "output_type": "stream",
     "text": [
      "{'supervisor': {'next': 'SQL-Generator'}}\n",
      "----\n",
      "{'SQL-Generator': {'messages': [HumanMessage(content=\"Creating a SQL database involves multiple steps: defining the database schema, creating the database, and then creating tables within that database. Here's a conceptual outline of how a project manager in software development might want their database structured, along with some SQL commands to create such a structure.\\n\\nFirst, we need to decide what kind of information is useful for project managers. Common entities in software development projects include:\\n\\n1. Projects: Information about individual projects.\\n2. Team Members: Information about people working on the projects.\\n3. Tasks: Details about tasks within each project.\\n4. Sprints: Information for agile sprint planning.\\n5. Issues: Tracking bugs or other issues.\\n6. Time Tracking: Information on time spent on tasks or projects.\\n\\nLet's define a simple schema with these entities:\\n\\n```sql\\n-- Create a database named 'ProjectManagement'\\nCREATE DATABASE ProjectManagement;\\n\\n-- Use the 'ProjectManagement' database\\nUSE ProjectManagement;\\n\\n-- Create a 'Projects' table\\nCREATE TABLE Projects (\\n    ProjectID INT AUTO_INCREMENT PRIMARY KEY,\\n    ProjectName VARCHAR(255) NOT NULL,\\n    StartDate DATE,\\n    EndDate DATE,\\n    ProjectStatus ENUM('Not Started', 'Active', 'Completed', 'On Hold') NOT NULL,\\n    Description TEXT\\n);\\n\\n-- Create a 'TeamMembers' table\\nCREATE TABLE TeamMembers (\\n    MemberID INT AUTO_INCREMENT PRIMARY KEY,\\n    Name VARCHAR(255) NOT NULL,\\n    Email VARCHAR(255) UNIQUE NOT NULL,\\n    Role VARCHAR(255)\\n);\\n\\n-- Create a 'Tasks' table\\nCREATE TABLE Tasks (\\n    TaskID INT AUTO_INCREMENT PRIMARY KEY,\\n    ProjectID INT,\\n    AssignedTo INT,\\n    Title VARCHAR(255) NOT NULL,\\n    Description TEXT,\\n    Status ENUM('To Do', 'In Progress', 'Done', 'Blocked') NOT NULL,\\n    Priority ENUM('Low', 'Medium', 'High', 'Critical') NOT NULL,\\n    DueDate DATE,\\n    FOREIGN KEY (ProjectID) REFERENCES Projects(ProjectID),\\n    FOREIGN KEY (AssignedTo) REFERENCES TeamMembers(MemberID)\\n);\\n\\n-- Create a 'Sprints' table\\nCREATE TABLE Sprints (\\n    SprintID INT AUTO_INCREMENT PRIMARY KEY,\\n    ProjectID INT,\\n    SprintName VARCHAR(255),\\n    StartDate DATE,\\n    EndDate DATE,\\n    FOREIGN KEY (ProjectID) REFERENCES Projects(ProjectID)\\n);\\n\\n-- Create an 'Issues' table\\nCREATE TABLE Issues (\\n    IssueID INT AUTO_INCREMENT PRIMARY KEY,\\n    ProjectID INT,\\n    Title VARCHAR(255) NOT NULL,\\n    Description TEXT,\\n    Status ENUM('Open', 'In Progress', 'Resolved', 'Closed') NOT NULL,\\n    AssignedTo INT,\\n    FOREIGN KEY (ProjectID) REFERENCES Projects(ProjectID),\\n    FOREIGN KEY (AssignedTo) REFERENCES TeamMembers(MemberID)\\n);\\n\\n-- Create a 'TimeTracking' table\\nCREATE TABLE TimeTracking (\\n    EntryID INT AUTO_INCREMENT PRIMARY KEY,\\n    TaskID INT,\\n    MemberID INT,\\n    DateWorked DATE,\\n    HoursWorked DECIMAL(5, 2),\\n    FOREIGN KEY (TaskID) REFERENCES Tasks(TaskID),\\n    FOREIGN KEY (MemberID) REFERENCES TeamMembers(MemberID)\\n);\\n```\\n\\nThis schema represents a simple database structure that a project manager could use to track projects, tasks, sprints, team members, issues, and time tracking. Keep in mind that this is a basic structure; real-world applications would likely require a more complex schema with additional tables and relationships to cover all aspects of project management in software development.\", name='SQL-Generator')]}}\n",
      "----\n",
      "{'supervisor': {'next': 'FINISH'}}\n",
      "----\n"
     ]
    }
   ],
   "source": [
    "for s in graph.stream(\n",
    "    {\n",
    "        \"messages\": [\n",
    "            HumanMessage(content=\"Create a SQL database that holds information useful for project managers in software development.\")\n",
    "        ]\n",
    "    }\n",
    "):\n",
    "    if \"__end__\" not in s:\n",
    "        print(s)\n",
    "        print(\"----\")"
   ]
  }
 ],
 "metadata": {
  "kernelspec": {
   "display_name": "Python 3",
   "language": "python",
   "name": "python3"
  },
  "language_info": {
   "codemirror_mode": {
    "name": "ipython",
    "version": 3
   },
   "file_extension": ".py",
   "mimetype": "text/x-python",
   "name": "python",
   "nbconvert_exporter": "python",
   "pygments_lexer": "ipython3",
   "version": "3.11.9"
  }
 },
 "nbformat": 4,
 "nbformat_minor": 2
}
